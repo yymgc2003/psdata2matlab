{
 "cells": [
  {
   "cell_type": "code",
   "execution_count": 4,
   "metadata": {},
   "outputs": [
    {
     "name": "stdout",
     "output_type": "stream",
     "text": [
      "Created output directory: /mnt/sdb/yyamaguchi/psdata2matlab/simulation/processed/bubblerandCFL0.03\n",
      "Copied config.json to: /mnt/sdb/yyamaguchi/psdata2matlab/simulation/processed/bubblerandCFL0.03/config.json\n",
      "Processing: /mnt/sdb/yyamaguchi/psdata2matlab/simulation/rawsignal/bubblerandCFL0.03/data/solid_liquid_reflector2.mat\n",
      "1190476190.4761906\n",
      "keys: ['#refs#', '#subsystem#', 'kgrid', 'sensor_data']\n",
      "['#refs#', '#subsystem#', 'kgrid', 'sensor_data']\n",
      "(59524,)\n",
      "Processed data and metadata saved to: /mnt/sdb/yyamaguchi/psdata2matlab/simulation/processed/bubblerandCFL0.03/solid_liquid_reflector2_processed.npz\n",
      "processed_data.shape:(1, 35715, 1)\n",
      "processed_data.ndim = 3\n",
      "/mnt/sdb/yyamaguchi/psdata2matlab/visualize/solid_liquid_reflector1_processed_0pulse.png\n"
     ]
    }
   ],
   "source": [
    "from src import mat2npz_sim,npz2png\n",
    "import os\n",
    "import glob\n",
    "\n",
    "# Define input and output directories\n",
    "# Define the case name as a variable for clarity and reusability\n",
    "case_name = \"bubblerandCFL0.03\"\n",
    "\n",
    "# Define base data directory for clarity\n",
    "base_data_dir = \"/mnt/sdb/yyamaguchi/psdata2matlab/simulation\"\n",
    "visualize_dir = \"/mnt/sdb/yyamaguchi/psdata2matlab/visualize\"\n",
    "def convert_all_simulation_mat_to_npz(case_name, base_data_dir):\n",
    "    \"\"\"\n",
    "    Convert all simulation .mat files in the specified case directory to .npz format.\n",
    "\n",
    "    Parameters\n",
    "    ----------\n",
    "    case_name : str\n",
    "        The name of the simulation case (e.g., \"case5\").\n",
    "    base_data_dir : str\n",
    "        The base directory where simulation data is stored.\n",
    "    \"\"\"\n",
    "    # Define input directory for raw simulation signals (relative to base_data_dir and case_name)\n",
    "    mat_dir = os.path.join(base_data_dir, f\"rawsignal/{case_name}/data\")\n",
    "\n",
    "    # Define config file path (relative to base_data_dir and case_name)\n",
    "    config_path = os.path.join(base_data_dir, f\"rawsignal/{case_name}/config3d.json\")\n",
    "\n",
    "    # Define output directory for processed files (relative to base_data_dir and case_name)\n",
    "    output_dir = os.path.join(base_data_dir, f\"processed/{case_name}\")\n",
    "    # Create the output directory if it does not exist\n",
    "    if not os.path.exists(output_dir):\n",
    "        os.makedirs(output_dir)\n",
    "        print(f\"Created output directory: {output_dir}\")\n",
    "    # Save a copy of the config.json file to the output directory for reference\n",
    "    import shutil\n",
    "    config_copy_path = os.path.join(output_dir, \"config.json\")\n",
    "    shutil.copy2(config_path, config_copy_path)\n",
    "    print(f\"Copied config.json to: {config_copy_path}\")\n",
    "\n",
    "    # Create the output directory if it does not exist\n",
    "    os.makedirs(output_dir, exist_ok=True)\n",
    "    mat_files_list = glob.glob(os.path.join(mat_dir, \"*.mat\"))\n",
    "    for mat_file in mat_files_list:\n",
    "        print(f\"Processing: {mat_file}\")\n",
    "        mat2npz_sim(mat_file, config_path, output_dir)\n",
    "\n",
    "# 関数の呼び出し例\n",
    "convert_all_simulation_mat_to_npz(case_name, base_data_dir)\n",
    "\n",
    "#npz2png(file_path=\"/mnt/sdb/yyamaguchi/psdata2matlab/simulation/processed/bubble2.5/solid_liquid_reflector1_processed.npz\",save_path=visualize_dir,full=False,pulse_index=0)\n",
    "npz2png(file_path=\"/mnt/sdb/yyamaguchi/psdata2matlab/simulation/processed/bubbleCFL0.05/solid_liquid_reflector1_processed.npz\",save_path=visualize_dir,full=False,pulse_index=0)"
   ]
  },
  {
   "cell_type": "code",
   "execution_count": 5,
   "metadata": {},
   "outputs": [
    {
     "name": "stdout",
     "output_type": "stream",
     "text": [
      "Processing bubblerandCFL0.03 in /mnt/sdb/yyamaguchi/psdata2matlab/simulation/processed/bubblerandCFL0.03\n",
      "['/mnt/sdb/yyamaguchi/psdata2matlab/simulation/processed/bubblerandCFL0.03/solid_liquid_reflector2_processed.npz']\n",
      "csv_path:/mnt/sdb/yyamaguchi/psdata2matlab/simulation/rawsignal/bubblerandCFL0.03/location_seed/location2.csv\n",
      "npz_path:/mnt/sdb/yyamaguchi/psdata2matlab/simulation/processed/bubblerandCFL0.03/solid_liquid_reflector2_processed.npz\n",
      "fs: 1190476190.4761906\n",
      "input tmp shape(2500,)\n",
      "input_tmp max: 30\n",
      "/mnt/sdb/yyamaguchi/psdata2matlab/simulation/processed/bubblerandCFL0.03/bubblerandCFL0.03_hilbert2.png\n",
      "/mnt/sdb/yyamaguchi/psdata2matlab/simulation/processed/bubblerandCFL0.03/bubblerandCFL0.03_raw2.png\n",
      "Xf: 9449766912000.0\n",
      "/mnt/sdb/yyamaguchi/psdata2matlab/simulation/processed/bubblerandCFL0.03/bubblerandCFL0.03_hilbert2_fft.png\n"
     ]
    }
   ],
   "source": [
    "from src import calculate_gvf_and_signal,npz2png,process_case_and_return_dataset, process_case_and_png\n",
    "import numpy as np\n",
    "import math\n",
    "import json\n",
    "import glob\n",
    "import os\n",
    "#units are all mm\n",
    "\n",
    "\n",
    "# Define the base directory containing all cases\n",
    "processed_base_dir = \"/mnt/sdb/yyamaguchi/psdata2matlab/simulation/processed\"\n",
    "output_path = \"/mnt/sdb/yyamaguchi/psdata2matlab/simulation/dataset\"\n",
    "csv_base_dir =\"/mnt/sdb/yyamaguchi/psdata2matlab/simulation/rawsignal\"\n",
    "\n",
    "# Get all case directories (e.g., case5, case6, ...)\n",
    "# case_dirs = sorted([d for d in os.listdir(csv_base_dir) if os.path.isdir(os.path.join(processed_base_dir, d)) and d.startswith(\"case\")])\n",
    "# print(case_dirs)\n",
    "\n",
    "case_dirs= [\"bubblerandCFL0.03\"]\n",
    "x_train_list = []\n",
    "t_train_list = []\n",
    "\n",
    "for case_name in case_dirs:\n",
    "    if case_name != \"case4\" and case_name!=\"case5\":\n",
    "        base_dir = os.path.join(processed_base_dir, case_name)\n",
    "        csv_dir = os.path.join(csv_base_dir, case_name)\n",
    "        print(f\"Processing {case_name} in {base_dir}\")\n",
    "        x_tmp = process_case_and_png(case_name, base_dir,\n",
    "                                    csv_dir, \n",
    "                                    rolling_window=False,\n",
    "                                    window_size=10, window_stride=10,\n",
    "                                    log1p=True,\n",
    "                                    if_hilbert=True,\n",
    "                                    png_name='hilbert')"
   ]
  }
 ],
 "metadata": {
  "language_info": {
   "name": "python"
  }
 },
 "nbformat": 4,
 "nbformat_minor": 2
}
